{
 "cells": [
  {
   "cell_type": "markdown",
   "metadata": {},
   "source": [
    "# Introdução a Séries Temporais\n"
   ]
  },
  {
   "cell_type": "markdown",
   "metadata": {},
   "source": [
    "\n",
    "Uma série temporal é definida como um conjunto de valores que se modificam em intervalos iguais de tempo.\n",
    "\n",
    "Exemplo de séries temporais:\n",
    "* Valor de ativos na bolsa de valores\n",
    "* População de um país\n",
    "* Demanda por um determinado produto\n",
    "\n",
    "Os modelos utilizados para descrever séries temporais são processos estocásticos, isto é, processos controlados por leis probabilísticas. \n",
    "\n",
    "Temos na literatura um número muito grande de modelos diferentes para descrever o comportamento de uma série particular. A construção destes modelos depende de vários fatores, tais como o comportamento do fenômeno ou o conhecimento apriori que temos de sua natureza e do objetivo da análise. O pacote ```pandas``` possui um conjunto de funcinalidades que auxiliam na análise de séries temporais."
   ]
  },
  {
   "cell_type": "markdown",
   "metadata": {},
   "source": [
    "# Trabalhando com Datas"
   ]
  },
  {
   "cell_type": "markdown",
   "metadata": {},
   "source": [
    "O primeiro passo para a análise de séries temporais é conversão da coluna que contém a data para o tipo especial _datetime_. Por tanto, utilizaremos a função _pd.to_datetime(df.month)_."
   ]
  },
  {
   "cell_type": "code",
   "execution_count": null,
   "metadata": {},
   "outputs": [],
   "source": []
  },
  {
   "cell_type": "markdown",
   "metadata": {},
   "source": [
    "Em seguida, transformaremos a coluna que contém a data como a coluna indexadora dos demais utilizando o comando _DataFrame.set_index()_"
   ]
  },
  {
   "cell_type": "code",
   "execution_count": null,
   "metadata": {},
   "outputs": [],
   "source": []
  },
  {
   "cell_type": "markdown",
   "metadata": {},
   "source": [
    "Resultado da criação de um novo index do tipo _DatetimeIndex_"
   ]
  },
  {
   "cell_type": "code",
   "execution_count": null,
   "metadata": {},
   "outputs": [],
   "source": []
  },
  {
   "cell_type": "markdown",
   "metadata": {},
   "source": [
    "# Plotando as Series"
   ]
  },
  {
   "cell_type": "markdown",
   "metadata": {},
   "source": [
    "Inicialmente faremos a plotagem de todos _trendding topics_. Para plotar todos os dados utilizando em um único gráfico utilizamos o comando _DataFrame.plot()_. Para modificar o tamnaho do gráfico, passamos o parâmetro ```_figsize=(15 , 6)```, aumentando a largura e altura do gráfico para 15 e 6, repectivamente. "
   ]
  },
  {
   "cell_type": "code",
   "execution_count": null,
   "metadata": {},
   "outputs": [],
   "source": []
  },
  {
   "cell_type": "markdown",
   "metadata": {},
   "source": [
    "# Analisando Tendencia\n"
   ]
  },
  {
   "cell_type": "markdown",
   "metadata": {},
   "source": [
    "Faremos a análise somente de uma métrica. Por conta da ocilação das pesquisas, pode ficar dificil confirmar qualquer tipo de tendência na frequência de pesquisas. Essas ocilações podem ser provocadas pela sazonalidade das pesquisas ou pela variabilidade natural da mesma."
   ]
  },
  {
   "cell_type": "code",
   "execution_count": null,
   "metadata": {},
   "outputs": [],
   "source": []
  },
  {
   "cell_type": "markdown",
   "metadata": {},
   "source": [
    "# Medias Moveis (MMS)"
   ]
  },
  {
   "cell_type": "markdown",
   "metadata": {},
   "source": [
    "Uma das técnicas comuns para eliminação do ruído é a aplicação das médias móveis(em inglês rollign averages).\n",
    "\n",
    "Considerando a série temporal $Z_1, Z_2, \\ldots, Z_n$.\n",
    "A técnica da média móvel consiste em calcular a média aritmética das $k$ observações mais recentes, ou seja\n",
    "\n",
    "$$M_t = \\frac{Z_t, Z_{t-1}, \\ldots, Z_{t-k+1}}{k}$$\n",
    "\n",
    "Detonamos por $k$ como sendo o comprimento da média."
   ]
  },
  {
   "cell_type": "markdown",
   "metadata": {},
   "source": [
    "Para plotar as médias móveis para o número de período que desejamos, utilizaremos o comando ```Series.rolling(numero_de_periodos).mean().plot()```"
   ]
  },
  {
   "cell_type": "code",
   "execution_count": null,
   "metadata": {},
   "outputs": [],
   "source": []
  },
  {
   "cell_type": "code",
   "execution_count": null,
   "metadata": {},
   "outputs": [],
   "source": []
  },
  {
   "cell_type": "markdown",
   "metadata": {},
   "source": [
    "\n",
    "# Analisando Sazonalidade\n",
    "\n",
    "Para analisar a sazonalidade das pesquisas, precisaremos eliminar a tendência. Para tanto utilizaremos o conceito de Diferença Sucessivas.\n",
    "\n"
   ]
  },
  {
   "cell_type": "markdown",
   "metadata": {},
   "source": [
    "\n",
    "### Diferenças Sucessivas \n",
    "\n",
    "O procedimento utilizado para eliminar a tendência é conhecido na literatura como procedimento para transformação de uma série não estacionária em uma série estacionária. \n",
    "\n",
    "A transformação mais comum consiste em tomar diferenças sucessivas da série originalm até se obter uma série estacionária. A primeira diferença $Z(t)$ é definida por\n",
    "\n",
    "$$\\Delta Z(t) = Z(t) - Z(t-1)$$\n",
    "\n",
    "então a segunda diferença é,\n",
    "\n",
    "$$\\Delta^2 Z(t)=\\Delta[\\Delta Z(t)]=\\Delta[Z(t) - Z(t - 1)]$$\n",
    "$$\\Delta^2 Z(t)=Z(t) - 2 Z(t - 1) + Z(t -2)$$\n",
    "\n",
    "De modo geral, a n-ésima diferença de $Z(t)$ é\n",
    "\n",
    "$$\\Delta^n Z(t) = \\Delta[\\Delta^{n - 1}Z(t)]$$\n",
    "\n",
    "Normalmente, será necessária somente uma ou duas diferenças para que a série se torne estacionária.\n"
   ]
  },
  {
   "cell_type": "markdown",
   "metadata": {},
   "source": [
    "Para plotar as _n_ diferenças, utilizamos o comando \n",
    "```Series.diff(numero_de_periodos)```"
   ]
  },
  {
   "cell_type": "code",
   "execution_count": null,
   "metadata": {},
   "outputs": [],
   "source": []
  },
  {
   "cell_type": "code",
   "execution_count": null,
   "metadata": {},
   "outputs": [],
   "source": []
  },
  {
   "cell_type": "markdown",
   "metadata": {},
   "source": [
    "# Métodos Preditivos\n",
    "\n",
    "\n"
   ]
  },
  {
   "cell_type": "markdown",
   "metadata": {},
   "source": [
    "Previsões de séries temporaris é um tópico com muitas aplicações possíveis, tais como previsão de preço de ativos, previsão do tempo, planejamento de negócios, alocação de recursos e muitos outros.\n",
    "\n",
    "Um séries temporais é usualmente modelada sob um processo estocástico $Y(t)$, i.e., uma sequência de variáveis aleatórias. Em uma previsão, estamos no momento $t$ e temos interesse de estimar $Y(t+1)$, usando somente as informações disponíveis até o momento $t$."
   ]
  },
  {
   "cell_type": "markdown",
   "metadata": {},
   "source": [
    "# Modelo Naive\n",
    "\n",
    "O modelo Naive é o exemplo mais básico e \"inocente\" de preditor para uma série temporal. A idéia do modelo é a de que o valor previsto para o período atual ```t``` seja igual a volor do período ```t-1```. Utilizaremos o Modelo Naive para iniciar nosso modelo de predição."
   ]
  },
  {
   "cell_type": "code",
   "execution_count": null,
   "metadata": {},
   "outputs": [],
   "source": []
  },
  {
   "cell_type": "markdown",
   "metadata": {},
   "source": [
    "### Validação \n",
    "\n",
    "Faremos a validação do modelo _Naive_ calculando o erro médio quadrático entre a previsões e os valores observados. Para tanto, faremos o cálculo da diferença entre a coluna Real e a de Previsão e guardaremos em uma variável chamada _erros_. "
   ]
  },
  {
   "cell_type": "markdown",
   "metadata": {},
   "source": [
    "Para calcular a média do erro, utilizamos o comando \n",
    "_Series.mean()_"
   ]
  },
  {
   "cell_type": "code",
   "execution_count": null,
   "metadata": {},
   "outputs": [],
   "source": []
  },
  {
   "cell_type": "markdown",
   "metadata": {},
   "source": [
    "O modelo _Naive_ é utilizado como referência para modelos mais sofisticados. A idéia é que o modelos de previsão possuam erro médio quadrático menor que o modelo _Naive_. Caso contrário, temos um modelo extremamente ineficaz."
   ]
  },
  {
   "cell_type": "markdown",
   "metadata": {},
   "source": [
    "# Modelo Auto Regressivo\n",
    "\n",
    "Em modelos de regressão múltipla, fazemos a previsão da variável de interesse utilizando a combinação linear das variáveis preditoras. Em um modelo autoregressivo, fazemos a previsão da variável de interesse utilizando a combinação linear dos valores passados da mesma variável. O termo autoregressivo indica que o processo é definido como um modelo de regressão de uma variável por ela mesma. \n",
    "\n",
    "Assim, um modelo autoregressivo de ordem &p& pode ser escrito como \n",
    "\n",
    "$$y_t = c + \\beta_1y_{t-1} + \\beta_2y_{t-2} + \\cdots + \\beta_p y_{t - p} + \\epsilon_t$$\n",
    "\n",
    "onde $\\epsilon_t$ é o ruído branco. Nos referimos a um modelo AR($p$) como um modelo autoregressivo de ordem $p$."
   ]
  }
 ],
 "metadata": {
  "interpreter": {
   "hash": "ecc01959a3fa6e370fa1785e6cca03f3405a3d40925e8097c2a14ac91635be9e"
  },
  "kernelspec": {
   "display_name": "Python 3.9.7 64-bit",
   "language": "python",
   "name": "python3"
  },
  "language_info": {
   "name": "python",
   "version": "3.9.7"
  },
  "orig_nbformat": 4
 },
 "nbformat": 4,
 "nbformat_minor": 2
}
