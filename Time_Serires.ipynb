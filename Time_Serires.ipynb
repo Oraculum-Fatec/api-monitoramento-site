{
 "cells": [
  {
   "cell_type": "markdown",
   "metadata": {},
   "source": [
    "# Introdução a Séries Temporais\n"
   ]
  },
  {
   "cell_type": "markdown",
   "metadata": {},
   "source": [
    "\n",
    "Uma série temporal é definida como um conjunto de valores que se modificam em intervalos iguais de tempo.\n",
    "\n",
    "Exemplo de séries temporais:\n",
    "* Valor de ativos na bolsa de valores\n",
    "* População de um país\n",
    "* Demanda por um determinado produto\n",
    "\n",
    "Os modelos utilizados para descrever séries temporais são processos estocásticos, isto é, processos controlados por leis probabilísticas. \n",
    "\n",
    "Temos na literatura um número muito grande de modelos diferentes para descrever o comportamento de uma série particular. A construção destes modelos depende de vários fatores, tais como o comportamento do fenômeno ou o conhecimento apriori que temos de sua natureza e do objetivo da análise. O pacote ```pandas``` possui um conjunto de funcinalidades que auxiliam na análise de séries temporais."
   ]
  },
  {
   "cell_type": "code",
   "execution_count": 4,
   "metadata": {},
   "outputs": [
    {
     "data": {
      "text/html": [
       "<div>\n",
       "<style scoped>\n",
       "    .dataframe tbody tr th:only-of-type {\n",
       "        vertical-align: middle;\n",
       "    }\n",
       "\n",
       "    .dataframe tbody tr th {\n",
       "        vertical-align: top;\n",
       "    }\n",
       "\n",
       "    .dataframe thead th {\n",
       "        text-align: right;\n",
       "    }\n",
       "</style>\n",
       "<table border=\"1\" class=\"dataframe\">\n",
       "  <thead>\n",
       "    <tr style=\"text-align: right;\">\n",
       "      <th></th>\n",
       "      <th>time</th>\n",
       "      <th>http_get_count</th>\n",
       "      <th>http_post_count</th>\n",
       "      <th>http_get_avg_ms</th>\n",
       "      <th>http_get_max_ms</th>\n",
       "      <th>http_post_avg_ms</th>\n",
       "      <th>http_post_max_s</th>\n",
       "      <th>system_cpu_percent</th>\n",
       "      <th>process_cpu_percent</th>\n",
       "      <th>total_used_memory_mib</th>\n",
       "      <th>live_threads</th>\n",
       "      <th>daemon_threads</th>\n",
       "      <th>state_runnable_thread</th>\n",
       "      <th>state_waiting_thread</th>\n",
       "      <th>state_timed_wait_thread</th>\n",
       "    </tr>\n",
       "  </thead>\n",
       "  <tbody>\n",
       "    <tr>\n",
       "      <th>0</th>\n",
       "      <td>2022-05-10 17:20:00</td>\n",
       "      <td>0.0667</td>\n",
       "      <td>57.3</td>\n",
       "      <td>17.4</td>\n",
       "      <td>22.8</td>\n",
       "      <td>3.68</td>\n",
       "      <td>0.1330</td>\n",
       "      <td>5.23</td>\n",
       "      <td>1.09</td>\n",
       "      <td>159</td>\n",
       "      <td>28</td>\n",
       "      <td>24</td>\n",
       "      <td>7</td>\n",
       "      <td>2</td>\n",
       "      <td>19</td>\n",
       "    </tr>\n",
       "    <tr>\n",
       "      <th>1</th>\n",
       "      <td>2022-05-10 17:20:15</td>\n",
       "      <td>0.0667</td>\n",
       "      <td>63.8</td>\n",
       "      <td>17.1</td>\n",
       "      <td>22.8</td>\n",
       "      <td>3.82</td>\n",
       "      <td>0.0207</td>\n",
       "      <td>6.68</td>\n",
       "      <td>1.30</td>\n",
       "      <td>260</td>\n",
       "      <td>28</td>\n",
       "      <td>24</td>\n",
       "      <td>7</td>\n",
       "      <td>2</td>\n",
       "      <td>19</td>\n",
       "    </tr>\n",
       "    <tr>\n",
       "      <th>2</th>\n",
       "      <td>2022-05-10 17:20:30</td>\n",
       "      <td>0.0667</td>\n",
       "      <td>70.2</td>\n",
       "      <td>16.8</td>\n",
       "      <td>22.8</td>\n",
       "      <td>3.79</td>\n",
       "      <td>0.0232</td>\n",
       "      <td>6.34</td>\n",
       "      <td>1.41</td>\n",
       "      <td>201</td>\n",
       "      <td>30</td>\n",
       "      <td>26</td>\n",
       "      <td>7</td>\n",
       "      <td>2</td>\n",
       "      <td>21</td>\n",
       "    </tr>\n",
       "    <tr>\n",
       "      <th>3</th>\n",
       "      <td>2022-05-10 17:20:45</td>\n",
       "      <td>0.0667</td>\n",
       "      <td>76.1</td>\n",
       "      <td>16.2</td>\n",
       "      <td>22.8</td>\n",
       "      <td>3.61</td>\n",
       "      <td>0.0247</td>\n",
       "      <td>6.65</td>\n",
       "      <td>1.80</td>\n",
       "      <td>146</td>\n",
       "      <td>36</td>\n",
       "      <td>32</td>\n",
       "      <td>7</td>\n",
       "      <td>2</td>\n",
       "      <td>27</td>\n",
       "    </tr>\n",
       "    <tr>\n",
       "      <th>4</th>\n",
       "      <td>2022-05-10 17:21:00</td>\n",
       "      <td>0.0667</td>\n",
       "      <td>80.0</td>\n",
       "      <td>15.8</td>\n",
       "      <td>22.8</td>\n",
       "      <td>3.42</td>\n",
       "      <td>0.0247</td>\n",
       "      <td>5.84</td>\n",
       "      <td>1.56</td>\n",
       "      <td>264</td>\n",
       "      <td>36</td>\n",
       "      <td>32</td>\n",
       "      <td>7</td>\n",
       "      <td>2</td>\n",
       "      <td>27</td>\n",
       "    </tr>\n",
       "  </tbody>\n",
       "</table>\n",
       "</div>"
      ],
      "text/plain": [
       "                  time  http_get_count  http_post_count  http_get_avg_ms  \\\n",
       "0  2022-05-10 17:20:00          0.0667             57.3             17.4   \n",
       "1  2022-05-10 17:20:15          0.0667             63.8             17.1   \n",
       "2  2022-05-10 17:20:30          0.0667             70.2             16.8   \n",
       "3  2022-05-10 17:20:45          0.0667             76.1             16.2   \n",
       "4  2022-05-10 17:21:00          0.0667             80.0             15.8   \n",
       "\n",
       "   http_get_max_ms  http_post_avg_ms  http_post_max_s  system_cpu_percent  \\\n",
       "0             22.8              3.68           0.1330                5.23   \n",
       "1             22.8              3.82           0.0207                6.68   \n",
       "2             22.8              3.79           0.0232                6.34   \n",
       "3             22.8              3.61           0.0247                6.65   \n",
       "4             22.8              3.42           0.0247                5.84   \n",
       "\n",
       "   process_cpu_percent  total_used_memory_mib  live_threads  daemon_threads  \\\n",
       "0                 1.09                    159            28              24   \n",
       "1                 1.30                    260            28              24   \n",
       "2                 1.41                    201            30              26   \n",
       "3                 1.80                    146            36              32   \n",
       "4                 1.56                    264            36              32   \n",
       "\n",
       "   state_runnable_thread  state_waiting_thread  state_timed_wait_thread  \n",
       "0                      7                     2                       19  \n",
       "1                      7                     2                       19  \n",
       "2                      7                     2                       21  \n",
       "3                      7                     2                       27  \n",
       "4                      7                     2                       27  "
      ]
     },
     "execution_count": 4,
     "metadata": {},
     "output_type": "execute_result"
    }
   ],
   "source": [
    "import pandas as pd\n",
    "\n",
    "df = pd.read_csv('dados/Export_Data.csv')\n",
    "df.head()"
   ]
  },
  {
   "cell_type": "markdown",
   "metadata": {},
   "source": [
    "# Trabalhando com Datas"
   ]
  },
  {
   "cell_type": "markdown",
   "metadata": {},
   "source": [
    "O primeiro passo para a análise de séries temporais é conversão da coluna que contém a data para o tipo especial _datetime_. Por tanto, utilizaremos a função _pd.to_datetime(df.month)_."
   ]
  },
  {
   "cell_type": "code",
   "execution_count": 5,
   "metadata": {},
   "outputs": [
    {
     "name": "stdout",
     "output_type": "stream",
     "text": [
      "<class 'pandas.core.frame.DataFrame'>\n",
      "RangeIndex: 841 entries, 0 to 840\n",
      "Data columns (total 15 columns):\n",
      " #   Column                   Non-Null Count  Dtype  \n",
      "---  ------                   --------------  -----  \n",
      " 0   time                     841 non-null    object \n",
      " 1   http_get_count           841 non-null    float64\n",
      " 2   http_post_count          841 non-null    float64\n",
      " 3   http_get_avg_ms          841 non-null    float64\n",
      " 4   http_get_max_ms          841 non-null    float64\n",
      " 5   http_post_avg_ms         841 non-null    float64\n",
      " 6   http_post_max_s          841 non-null    float64\n",
      " 7   system_cpu_percent       841 non-null    float64\n",
      " 8   process_cpu_percent      841 non-null    float64\n",
      " 9   total_used_memory_mib    841 non-null    int64  \n",
      " 10  live_threads             841 non-null    int64  \n",
      " 11  daemon_threads           841 non-null    int64  \n",
      " 12  state_runnable_thread    841 non-null    int64  \n",
      " 13  state_waiting_thread     841 non-null    int64  \n",
      " 14  state_timed_wait_thread  841 non-null    int64  \n",
      "dtypes: float64(8), int64(6), object(1)\n",
      "memory usage: 98.7+ KB\n"
     ]
    }
   ],
   "source": [
    "df.info()"
   ]
  },
  {
   "cell_type": "code",
   "execution_count": 6,
   "metadata": {},
   "outputs": [
    {
     "name": "stdout",
     "output_type": "stream",
     "text": [
      "<class 'pandas.core.frame.DataFrame'>\n",
      "RangeIndex: 841 entries, 0 to 840\n",
      "Data columns (total 15 columns):\n",
      " #   Column                   Non-Null Count  Dtype         \n",
      "---  ------                   --------------  -----         \n",
      " 0   time                     841 non-null    datetime64[ns]\n",
      " 1   http_get_count           841 non-null    float64       \n",
      " 2   http_post_count          841 non-null    float64       \n",
      " 3   http_get_avg_ms          841 non-null    float64       \n",
      " 4   http_get_max_ms          841 non-null    float64       \n",
      " 5   http_post_avg_ms         841 non-null    float64       \n",
      " 6   http_post_max_s          841 non-null    float64       \n",
      " 7   system_cpu_percent       841 non-null    float64       \n",
      " 8   process_cpu_percent      841 non-null    float64       \n",
      " 9   total_used_memory_mib    841 non-null    int64         \n",
      " 10  live_threads             841 non-null    int64         \n",
      " 11  daemon_threads           841 non-null    int64         \n",
      " 12  state_runnable_thread    841 non-null    int64         \n",
      " 13  state_waiting_thread     841 non-null    int64         \n",
      " 14  state_timed_wait_thread  841 non-null    int64         \n",
      "dtypes: datetime64[ns](1), float64(8), int64(6)\n",
      "memory usage: 98.7 KB\n"
     ]
    }
   ],
   "source": [
    "df.time = pd.to_datetime(df.time)\n",
    "df.info()"
   ]
  },
  {
   "cell_type": "markdown",
   "metadata": {},
   "source": [
    "Em seguida, transformaremos a coluna que contém a data como a coluna indexadora dos demais utilizando o comando _DataFrame.set_index()_"
   ]
  },
  {
   "cell_type": "code",
   "execution_count": 8,
   "metadata": {},
   "outputs": [],
   "source": [
    "df.set_index('time', inplace=True)"
   ]
  },
  {
   "cell_type": "markdown",
   "metadata": {},
   "source": [
    "Resultado da criação de um novo index do tipo _DatetimeIndex_"
   ]
  },
  {
   "cell_type": "code",
   "execution_count": 9,
   "metadata": {},
   "outputs": [
    {
     "name": "stdout",
     "output_type": "stream",
     "text": [
      "<class 'pandas.core.frame.DataFrame'>\n",
      "DatetimeIndex: 841 entries, 2022-05-10 17:20:00 to 2022-05-10 20:50:00\n",
      "Data columns (total 14 columns):\n",
      " #   Column                   Non-Null Count  Dtype  \n",
      "---  ------                   --------------  -----  \n",
      " 0   http_get_count           841 non-null    float64\n",
      " 1   http_post_count          841 non-null    float64\n",
      " 2   http_get_avg_ms          841 non-null    float64\n",
      " 3   http_get_max_ms          841 non-null    float64\n",
      " 4   http_post_avg_ms         841 non-null    float64\n",
      " 5   http_post_max_s          841 non-null    float64\n",
      " 6   system_cpu_percent       841 non-null    float64\n",
      " 7   process_cpu_percent      841 non-null    float64\n",
      " 8   total_used_memory_mib    841 non-null    int64  \n",
      " 9   live_threads             841 non-null    int64  \n",
      " 10  daemon_threads           841 non-null    int64  \n",
      " 11  state_runnable_thread    841 non-null    int64  \n",
      " 12  state_waiting_thread     841 non-null    int64  \n",
      " 13  state_timed_wait_thread  841 non-null    int64  \n",
      "dtypes: float64(8), int64(6)\n",
      "memory usage: 98.6 KB\n"
     ]
    }
   ],
   "source": [
    "df.info()"
   ]
  },
  {
   "cell_type": "markdown",
   "metadata": {},
   "source": [
    "# Plotando as Series"
   ]
  },
  {
   "cell_type": "markdown",
   "metadata": {},
   "source": [
    "Inicialmente faremos a plotagem de todos _trendding topics_. Para plotar todos os dados utilizando em um único gráfico utilizamos o comando _DataFrame.plot()_. Para modificar o tamnaho do gráfico, passamos o parâmetro ```_figsize=(15 , 6)```, aumentando a largura e altura do gráfico para 15 e 6, repectivamente. "
   ]
  },
  {
   "cell_type": "code",
   "execution_count": null,
   "metadata": {},
   "outputs": [],
   "source": []
  },
  {
   "cell_type": "markdown",
   "metadata": {},
   "source": [
    "# Analisando Tendencia\n"
   ]
  },
  {
   "cell_type": "markdown",
   "metadata": {},
   "source": [
    "Faremos a análise somente de uma métrica. Por conta da ocilação das pesquisas, pode ficar dificil confirmar qualquer tipo de tendência na frequência de pesquisas. Essas ocilações podem ser provocadas pela sazonalidade das pesquisas ou pela variabilidade natural da mesma."
   ]
  },
  {
   "cell_type": "code",
   "execution_count": null,
   "metadata": {},
   "outputs": [],
   "source": []
  },
  {
   "cell_type": "markdown",
   "metadata": {},
   "source": [
    "# Medias Moveis (MMS)"
   ]
  },
  {
   "cell_type": "markdown",
   "metadata": {},
   "source": [
    "Uma das técnicas comuns para eliminação do ruído é a aplicação das médias móveis(em inglês rollign averages).\n",
    "\n",
    "Considerando a série temporal $Z_1, Z_2, \\ldots, Z_n$.\n",
    "A técnica da média móvel consiste em calcular a média aritmética das $k$ observações mais recentes, ou seja\n",
    "\n",
    "$$M_t = \\frac{Z_t, Z_{t-1}, \\ldots, Z_{t-k+1}}{k}$$\n",
    "\n",
    "Detonamos por $k$ como sendo o comprimento da média."
   ]
  },
  {
   "cell_type": "markdown",
   "metadata": {},
   "source": [
    "Para plotar as médias móveis para o número de período que desejamos, utilizaremos o comando ```Series.rolling(numero_de_periodos).mean().plot()```"
   ]
  },
  {
   "cell_type": "code",
   "execution_count": null,
   "metadata": {},
   "outputs": [],
   "source": []
  },
  {
   "cell_type": "code",
   "execution_count": null,
   "metadata": {},
   "outputs": [],
   "source": []
  },
  {
   "cell_type": "markdown",
   "metadata": {},
   "source": [
    "\n",
    "# Analisando Sazonalidade\n",
    "\n",
    "Para analisar a sazonalidade das pesquisas, precisaremos eliminar a tendência. Para tanto utilizaremos o conceito de Diferença Sucessivas.\n",
    "\n"
   ]
  },
  {
   "cell_type": "markdown",
   "metadata": {},
   "source": [
    "\n",
    "### Diferenças Sucessivas \n",
    "\n",
    "O procedimento utilizado para eliminar a tendência é conhecido na literatura como procedimento para transformação de uma série não estacionária em uma série estacionária. \n",
    "\n",
    "A transformação mais comum consiste em tomar diferenças sucessivas da série originalm até se obter uma série estacionária. A primeira diferença $Z(t)$ é definida por\n",
    "\n",
    "$$\\Delta Z(t) = Z(t) - Z(t-1)$$\n",
    "\n",
    "então a segunda diferença é,\n",
    "\n",
    "$$\\Delta^2 Z(t)=\\Delta[\\Delta Z(t)]=\\Delta[Z(t) - Z(t - 1)]$$\n",
    "$$\\Delta^2 Z(t)=Z(t) - 2 Z(t - 1) + Z(t -2)$$\n",
    "\n",
    "De modo geral, a n-ésima diferença de $Z(t)$ é\n",
    "\n",
    "$$\\Delta^n Z(t) = \\Delta[\\Delta^{n - 1}Z(t)]$$\n",
    "\n",
    "Normalmente, será necessária somente uma ou duas diferenças para que a série se torne estacionária.\n"
   ]
  },
  {
   "cell_type": "markdown",
   "metadata": {},
   "source": [
    "Para plotar as _n_ diferenças, utilizamos o comando \n",
    "```Series.diff(numero_de_periodos)```"
   ]
  },
  {
   "cell_type": "code",
   "execution_count": null,
   "metadata": {},
   "outputs": [],
   "source": []
  },
  {
   "cell_type": "code",
   "execution_count": null,
   "metadata": {},
   "outputs": [],
   "source": []
  },
  {
   "cell_type": "markdown",
   "metadata": {},
   "source": [
    "# Métodos Preditivos\n",
    "\n",
    "\n"
   ]
  },
  {
   "cell_type": "markdown",
   "metadata": {},
   "source": [
    "Previsões de séries temporaris é um tópico com muitas aplicações possíveis, tais como previsão de preço de ativos, previsão do tempo, planejamento de negócios, alocação de recursos e muitos outros.\n",
    "\n",
    "Um séries temporais é usualmente modelada sob um processo estocástico $Y(t)$, i.e., uma sequência de variáveis aleatórias. Em uma previsão, estamos no momento $t$ e temos interesse de estimar $Y(t+1)$, usando somente as informações disponíveis até o momento $t$."
   ]
  },
  {
   "cell_type": "markdown",
   "metadata": {},
   "source": [
    "# Modelo Naive\n",
    "\n",
    "O modelo Naive é o exemplo mais básico e \"inocente\" de preditor para uma série temporal. A idéia do modelo é a de que o valor previsto para o período atual ```t``` seja igual a volor do período ```t-1```. Utilizaremos o Modelo Naive para iniciar nosso modelo de predição."
   ]
  },
  {
   "cell_type": "code",
   "execution_count": null,
   "metadata": {},
   "outputs": [],
   "source": []
  },
  {
   "cell_type": "markdown",
   "metadata": {},
   "source": [
    "### Validação \n",
    "\n",
    "Faremos a validação do modelo _Naive_ calculando o erro médio quadrático entre a previsões e os valores observados. Para tanto, faremos o cálculo da diferença entre a coluna Real e a de Previsão e guardaremos em uma variável chamada _erros_. "
   ]
  },
  {
   "cell_type": "markdown",
   "metadata": {},
   "source": [
    "Para calcular a média do erro, utilizamos o comando \n",
    "_Series.mean()_"
   ]
  },
  {
   "cell_type": "code",
   "execution_count": null,
   "metadata": {},
   "outputs": [],
   "source": []
  },
  {
   "cell_type": "markdown",
   "metadata": {},
   "source": [
    "O modelo _Naive_ é utilizado como referência para modelos mais sofisticados. A idéia é que o modelos de previsão possuam erro médio quadrático menor que o modelo _Naive_. Caso contrário, temos um modelo extremamente ineficaz."
   ]
  },
  {
   "cell_type": "markdown",
   "metadata": {},
   "source": [
    "# Modelo Auto Regressivo\n",
    "\n",
    "Em modelos de regressão múltipla, fazemos a previsão da variável de interesse utilizando a combinação linear das variáveis preditoras. Em um modelo autoregressivo, fazemos a previsão da variável de interesse utilizando a combinação linear dos valores passados da mesma variável. O termo autoregressivo indica que o processo é definido como um modelo de regressão de uma variável por ela mesma. \n",
    "\n",
    "Assim, um modelo autoregressivo de ordem &p& pode ser escrito como \n",
    "\n",
    "$$y_t = c + \\beta_1y_{t-1} + \\beta_2y_{t-2} + \\cdots + \\beta_p y_{t - p} + \\epsilon_t$$\n",
    "\n",
    "onde $\\epsilon_t$ é o ruído branco. Nos referimos a um modelo AR($p$) como um modelo autoregressivo de ordem $p$."
   ]
  }
 ],
 "metadata": {
  "interpreter": {
   "hash": "ecc01959a3fa6e370fa1785e6cca03f3405a3d40925e8097c2a14ac91635be9e"
  },
  "kernelspec": {
   "display_name": "Python 3.9.7 64-bit",
   "language": "python",
   "name": "python3"
  },
  "language_info": {
   "codemirror_mode": {
    "name": "ipython",
    "version": 3
   },
   "file_extension": ".py",
   "mimetype": "text/x-python",
   "name": "python",
   "nbconvert_exporter": "python",
   "pygments_lexer": "ipython3",
   "version": "3.9.7"
  },
  "orig_nbformat": 4
 },
 "nbformat": 4,
 "nbformat_minor": 2
}
