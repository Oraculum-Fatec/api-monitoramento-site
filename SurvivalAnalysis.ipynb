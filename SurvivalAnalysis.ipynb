{
 "cells": [
  {
   "cell_type": "markdown",
   "metadata": {
    "run_control": {
     "marked": true
    }
   },
   "source": [
    "# Análise de Sobrevivência"
   ]
  },
  {
   "cell_type": "markdown",
   "metadata": {
    "nbpresent": {
     "id": "3ed72d58-7719-40d6-a229-73778f445d4a"
    }
   },
   "source": [
    "Baseado e adaptado no código de survival analysis da IBM.\n",
    "\n",
    "## Tópicos:\n",
    "\n",
    "Serão abordados os seguintes aspectos, sequencialmente:\n",
    "\n",
    "1. Como foi aplicado a análise de sobrêvivencia.\n",
    "2. Preparar a curva de sobrevida de Kaplan-Meier para vários subgrupos.\n",
    "\n",
    "__Notas de Instalação:__\n",
    "Será utilizada a seguinte biblioteca: [lifelines](https://lifelines.readthedocs.io/en/latest/). Na qual pode ser instalada pelo seguinte comando:\n",
    "\n",
    "```conda install -c conda-forge lifelines```\n",
    "\n",
    "ou\n",
    "\n",
    "```pip install lifelines```"
   ]
  },
  {
   "cell_type": "code",
   "execution_count": 21,
   "metadata": {},
   "outputs": [],
   "source": [
    "# Instalando as bibliotecas para realizar a análise\n",
    "import pandas as pd\n",
    "import matplotlib.pyplot as plt\n",
    "import seaborn as sns\n",
    "from lifelines import KaplanMeierFitter, CoxPHFitter\n",
    "import warnings\n",
    "from colorsetup import colors, palette\n",
    "sns.set_palette(palette)"
   ]
  },
  {
   "cell_type": "markdown",
   "metadata": {},
   "source": [
    "---"
   ]
  },
  {
   "cell_type": "markdown",
   "metadata": {},
   "source": [
    "# Seção 1: Importação dos dados a serem analisados\n",
    "\n",
    "Os dados importados a seguir foram obtidos a partir de vários testes de carga de curto período que tinham como objetivo derrubar uma aplicação de cadastro."
   ]
  },
  {
   "cell_type": "code",
   "execution_count": 22,
   "metadata": {
    "nbpresent": {
     "id": "d2e075c0-fccd-4d2c-ba33-1ca65629bd24"
    },
    "scrolled": true
   },
   "outputs": [
    {
     "data": {
      "text/html": [
       "<div>\n",
       "<style scoped>\n",
       "    .dataframe tbody tr th:only-of-type {\n",
       "        vertical-align: middle;\n",
       "    }\n",
       "\n",
       "    .dataframe tbody tr th {\n",
       "        vertical-align: top;\n",
       "    }\n",
       "\n",
       "    .dataframe thead th {\n",
       "        text-align: right;\n",
       "    }\n",
       "</style>\n",
       "<table border=\"1\" class=\"dataframe\">\n",
       "  <thead>\n",
       "    <tr style=\"text-align: right;\">\n",
       "      <th></th>\n",
       "      <th>time</th>\n",
       "      <th>initial_users</th>\n",
       "      <th>max_users</th>\n",
       "      <th>avg_reponse_time</th>\n",
       "      <th>max_reponse_time</th>\n",
       "      <th>dead</th>\n",
       "    </tr>\n",
       "  </thead>\n",
       "  <tbody>\n",
       "    <tr>\n",
       "      <th>0</th>\n",
       "      <td>115</td>\n",
       "      <td>820</td>\n",
       "      <td>958</td>\n",
       "      <td>1910</td>\n",
       "      <td>20246</td>\n",
       "      <td>1</td>\n",
       "    </tr>\n",
       "    <tr>\n",
       "      <th>1</th>\n",
       "      <td>114</td>\n",
       "      <td>650</td>\n",
       "      <td>941</td>\n",
       "      <td>1567</td>\n",
       "      <td>17098</td>\n",
       "      <td>1</td>\n",
       "    </tr>\n",
       "    <tr>\n",
       "      <th>2</th>\n",
       "      <td>79</td>\n",
       "      <td>7</td>\n",
       "      <td>459</td>\n",
       "      <td>148</td>\n",
       "      <td>700</td>\n",
       "      <td>0</td>\n",
       "    </tr>\n",
       "    <tr>\n",
       "      <th>3</th>\n",
       "      <td>180</td>\n",
       "      <td>7</td>\n",
       "      <td>480</td>\n",
       "      <td>159</td>\n",
       "      <td>710</td>\n",
       "      <td>0</td>\n",
       "    </tr>\n",
       "    <tr>\n",
       "      <th>4</th>\n",
       "      <td>46</td>\n",
       "      <td>0</td>\n",
       "      <td>300</td>\n",
       "      <td>96</td>\n",
       "      <td>651</td>\n",
       "      <td>0</td>\n",
       "    </tr>\n",
       "    <tr>\n",
       "      <th>...</th>\n",
       "      <td>...</td>\n",
       "      <td>...</td>\n",
       "      <td>...</td>\n",
       "      <td>...</td>\n",
       "      <td>...</td>\n",
       "      <td>...</td>\n",
       "    </tr>\n",
       "    <tr>\n",
       "      <th>495</th>\n",
       "      <td>166</td>\n",
       "      <td>820</td>\n",
       "      <td>958</td>\n",
       "      <td>1910</td>\n",
       "      <td>20246</td>\n",
       "      <td>1</td>\n",
       "    </tr>\n",
       "    <tr>\n",
       "      <th>496</th>\n",
       "      <td>126</td>\n",
       "      <td>8</td>\n",
       "      <td>700</td>\n",
       "      <td>310</td>\n",
       "      <td>1346</td>\n",
       "      <td>0</td>\n",
       "    </tr>\n",
       "    <tr>\n",
       "      <th>497</th>\n",
       "      <td>30</td>\n",
       "      <td>0</td>\n",
       "      <td>988</td>\n",
       "      <td>2005</td>\n",
       "      <td>21546</td>\n",
       "      <td>1</td>\n",
       "    </tr>\n",
       "    <tr>\n",
       "      <th>498</th>\n",
       "      <td>158</td>\n",
       "      <td>20</td>\n",
       "      <td>500</td>\n",
       "      <td>170</td>\n",
       "      <td>1300</td>\n",
       "      <td>0</td>\n",
       "    </tr>\n",
       "    <tr>\n",
       "      <th>499</th>\n",
       "      <td>90</td>\n",
       "      <td>8</td>\n",
       "      <td>700</td>\n",
       "      <td>310</td>\n",
       "      <td>1346</td>\n",
       "      <td>0</td>\n",
       "    </tr>\n",
       "  </tbody>\n",
       "</table>\n",
       "<p>500 rows × 6 columns</p>\n",
       "</div>"
      ],
      "text/plain": [
       "     time  initial_users  max_users  avg_reponse_time  max_reponse_time  dead\n",
       "0     115            820        958              1910             20246     1\n",
       "1     114            650        941              1567             17098     1\n",
       "2      79              7        459               148               700     0\n",
       "3     180              7        480               159               710     0\n",
       "4      46              0        300                96               651     0\n",
       "..    ...            ...        ...               ...               ...   ...\n",
       "495   166            820        958              1910             20246     1\n",
       "496   126              8        700               310              1346     0\n",
       "497    30              0        988              2005             21546     1\n",
       "498   158             20        500               170              1300     0\n",
       "499    90              8        700               310              1346     0\n",
       "\n",
       "[500 rows x 6 columns]"
      ]
     },
     "execution_count": 22,
     "metadata": {},
     "output_type": "execute_result"
    }
   ],
   "source": [
    "df = pd.read_csv('LoadTest.csv', sep=\";\")\n",
    "df"
   ]
  },
  {
   "cell_type": "markdown",
   "metadata": {},
   "source": [
    "Temos então, variáveis que indicam os picos de cada teste, a variável  `dead` (indica se a aplicação sobreiveu ou não ao teste de carga), e  `time` (duração em segundos de cada teste)."
   ]
  },
  {
   "cell_type": "code",
   "execution_count": 10,
   "metadata": {
    "scrolled": true
   },
   "outputs": [
    {
     "data": {
      "text/html": [
       "<div>\n",
       "<style scoped>\n",
       "    .dataframe tbody tr th:only-of-type {\n",
       "        vertical-align: middle;\n",
       "    }\n",
       "\n",
       "    .dataframe tbody tr th {\n",
       "        vertical-align: top;\n",
       "    }\n",
       "\n",
       "    .dataframe thead th {\n",
       "        text-align: right;\n",
       "    }\n",
       "</style>\n",
       "<table border=\"1\" class=\"dataframe\">\n",
       "  <thead>\n",
       "    <tr style=\"text-align: right;\">\n",
       "      <th></th>\n",
       "      <th>index</th>\n",
       "      <th>time</th>\n",
       "      <th>initial_users</th>\n",
       "      <th>max_users</th>\n",
       "      <th>avg_reponse_time</th>\n",
       "      <th>max_reponse_time</th>\n",
       "      <th>dead</th>\n",
       "    </tr>\n",
       "  </thead>\n",
       "  <tbody>\n",
       "    <tr>\n",
       "      <th>0</th>\n",
       "      <td>0</td>\n",
       "      <td>115</td>\n",
       "      <td>820</td>\n",
       "      <td>958</td>\n",
       "      <td>1910</td>\n",
       "      <td>20246</td>\n",
       "      <td>1</td>\n",
       "    </tr>\n",
       "    <tr>\n",
       "      <th>1</th>\n",
       "      <td>1</td>\n",
       "      <td>114</td>\n",
       "      <td>650</td>\n",
       "      <td>941</td>\n",
       "      <td>1567</td>\n",
       "      <td>17098</td>\n",
       "      <td>1</td>\n",
       "    </tr>\n",
       "    <tr>\n",
       "      <th>2</th>\n",
       "      <td>2</td>\n",
       "      <td>79</td>\n",
       "      <td>7</td>\n",
       "      <td>459</td>\n",
       "      <td>148</td>\n",
       "      <td>700</td>\n",
       "      <td>0</td>\n",
       "    </tr>\n",
       "    <tr>\n",
       "      <th>3</th>\n",
       "      <td>3</td>\n",
       "      <td>180</td>\n",
       "      <td>7</td>\n",
       "      <td>480</td>\n",
       "      <td>159</td>\n",
       "      <td>710</td>\n",
       "      <td>0</td>\n",
       "    </tr>\n",
       "    <tr>\n",
       "      <th>4</th>\n",
       "      <td>4</td>\n",
       "      <td>46</td>\n",
       "      <td>0</td>\n",
       "      <td>300</td>\n",
       "      <td>96</td>\n",
       "      <td>651</td>\n",
       "      <td>0</td>\n",
       "    </tr>\n",
       "    <tr>\n",
       "      <th>...</th>\n",
       "      <td>...</td>\n",
       "      <td>...</td>\n",
       "      <td>...</td>\n",
       "      <td>...</td>\n",
       "      <td>...</td>\n",
       "      <td>...</td>\n",
       "      <td>...</td>\n",
       "    </tr>\n",
       "    <tr>\n",
       "      <th>495</th>\n",
       "      <td>495</td>\n",
       "      <td>166</td>\n",
       "      <td>820</td>\n",
       "      <td>958</td>\n",
       "      <td>1910</td>\n",
       "      <td>20246</td>\n",
       "      <td>1</td>\n",
       "    </tr>\n",
       "    <tr>\n",
       "      <th>496</th>\n",
       "      <td>496</td>\n",
       "      <td>126</td>\n",
       "      <td>8</td>\n",
       "      <td>700</td>\n",
       "      <td>310</td>\n",
       "      <td>1346</td>\n",
       "      <td>0</td>\n",
       "    </tr>\n",
       "    <tr>\n",
       "      <th>497</th>\n",
       "      <td>497</td>\n",
       "      <td>30</td>\n",
       "      <td>0</td>\n",
       "      <td>988</td>\n",
       "      <td>2005</td>\n",
       "      <td>21546</td>\n",
       "      <td>1</td>\n",
       "    </tr>\n",
       "    <tr>\n",
       "      <th>498</th>\n",
       "      <td>498</td>\n",
       "      <td>158</td>\n",
       "      <td>20</td>\n",
       "      <td>500</td>\n",
       "      <td>170</td>\n",
       "      <td>1300</td>\n",
       "      <td>0</td>\n",
       "    </tr>\n",
       "    <tr>\n",
       "      <th>499</th>\n",
       "      <td>499</td>\n",
       "      <td>90</td>\n",
       "      <td>8</td>\n",
       "      <td>700</td>\n",
       "      <td>310</td>\n",
       "      <td>1346</td>\n",
       "      <td>0</td>\n",
       "    </tr>\n",
       "  </tbody>\n",
       "</table>\n",
       "<p>500 rows × 7 columns</p>\n",
       "</div>"
      ],
      "text/plain": [
       "     index  time  initial_users  max_users  avg_reponse_time  \\\n",
       "0        0   115            820        958              1910   \n",
       "1        1   114            650        941              1567   \n",
       "2        2    79              7        459               148   \n",
       "3        3   180              7        480               159   \n",
       "4        4    46              0        300                96   \n",
       "..     ...   ...            ...        ...               ...   \n",
       "495    495   166            820        958              1910   \n",
       "496    496   126              8        700               310   \n",
       "497    497    30              0        988              2005   \n",
       "498    498   158             20        500               170   \n",
       "499    499    90              8        700               310   \n",
       "\n",
       "     max_reponse_time  dead  \n",
       "0               20246     1  \n",
       "1               17098     1  \n",
       "2                 700     0  \n",
       "3                 710     0  \n",
       "4                 651     0  \n",
       "..                ...   ...  \n",
       "495             20246     1  \n",
       "496              1346     0  \n",
       "497             21546     1  \n",
       "498              1300     0  \n",
       "499              1346     0  \n",
       "\n",
       "[500 rows x 7 columns]"
      ]
     },
     "execution_count": 10,
     "metadata": {},
     "output_type": "execute_result"
    }
   ],
   "source": [
    "df = df.reset_index()  # make sure indexes pair with number of rows\n",
    "df"
   ]
  },
  {
   "cell_type": "code",
   "execution_count": 24,
   "metadata": {},
   "outputs": [
    {
     "name": "stdout",
     "output_type": "stream",
     "text": [
      "<class 'pandas.core.frame.DataFrame'>\n",
      "RangeIndex: 500 entries, 0 to 499\n",
      "Data columns (total 6 columns):\n",
      " #   Column            Non-Null Count  Dtype\n",
      "---  ------            --------------  -----\n",
      " 0   time              500 non-null    int64\n",
      " 1   initial_users     500 non-null    int64\n",
      " 2   max_users         500 non-null    int64\n",
      " 3   avg_reponse_time  500 non-null    int64\n",
      " 4   max_reponse_time  500 non-null    int64\n",
      " 5   dead              500 non-null    int64\n",
      "dtypes: int64(6)\n",
      "memory usage: 23.6 KB\n"
     ]
    }
   ],
   "source": [
    "df.info()"
   ]
  },
  {
   "cell_type": "code",
   "execution_count": 25,
   "metadata": {},
   "outputs": [
    {
     "data": {
      "text/plain": [
       "<AxesSubplot:xlabel='dead', ylabel='time'>"
      ]
     },
     "execution_count": 25,
     "metadata": {},
     "output_type": "execute_result"
    },
    {
     "data": {
      "image/png": "[encoded data removed]",
      "text/plain": [
       "<Figure size 576x576 with 1 Axes>"
      ]
     },
     "metadata": {
      "needs_background": "light"
     },
     "output_type": "display_data"
    }
   ],
   "source": [
    "plt.figure(figsize=(8,8))\n",
    "sns.barplot(data=df, x='dead', y='time')"
   ]
  },
  {
   "cell_type": "markdown",
   "metadata": {},
   "source": [
    "É possível observar que os testes em que aplicação não sobreviveu possuem um tempo um pouco maior, isto ocorre por que em teste de cargas mais longos, abre um período de tempo maior em que aplicação deve resistir, logo a probabilidade do sistema falhar aumenta. Contudo, isto depende também da carga aplicada no teste."
   ]
  },
  {
   "cell_type": "markdown",
   "metadata": {},
   "source": [
    "# Seção 2: Usando a curva de sobrevida de Kaplan-Meier\n",
    "\n",
    "A Curva de Kaplan-Meier representa uma visualização não paramétrica simples da função de probabilidade de sobrevivência dos nossos dados. Contudo, esta curva é inicialmente o suficiente para ter uma visualização básica da análise de sobrevivência do nosso sistema. O código abaixo demonstra a aplicação da curva de Kaplan-Meier simples."
   ]
  },
  {
   "cell_type": "code",
   "execution_count": 26,
   "metadata": {},
   "outputs": [
    {
     "data": {
      "text/plain": [
       "Text(0, 0.5, 'Survival probability')"
      ]
     },
     "execution_count": 26,
     "metadata": {},
     "output_type": "execute_result"
    },
    {
     "data": {
      "image/png": "[encoded data removed]",
      "text/plain": [
       "<Figure size 864x432 with 1 Axes>"
      ]
     },
     "metadata": {
      "needs_background": "light"
     },
     "output_type": "display_data"
    }
   ],
   "source": [
    "from lifelines.utils import datetimes_to_durations\n",
    "\n",
    "kmf = KaplanMeierFitter()\n",
    "\n",
    "kmf.fit(df.time, df.dead, label = 'Estimativa de Kaplan Meier')\n",
    "\n",
    "kmf.plot(linewidth=4, figsize=(12, 6))\n",
    "plt.title('Chance de falha da aplicação: Curva de Kaplan-Meier')\n",
    "plt.xlabel('Time')\n",
    "plt.ylabel('Survival probability')"
   ]
  },
  {
   "cell_type": "markdown",
   "metadata": {},
   "source": [
    "# Seção 3: Examinando as outras variáveis\n",
    "\n",
    "Ainda explorando alguns aspectos da função de sobrevivência, também podemos analisar a taxa de sobrevivência de acordo com outras variáveis. Em sequência, veremos as diferenças no risco de sobrevivência para diferentes picos de usuários. Primeiramente traçando um histograma simples para cada categoria, observando as diferenças entre subamostras e verificando se aplicação sobreviveu ou não."
   ]
  },
  {
   "cell_type": "code",
   "execution_count": 46,
   "metadata": {},
   "outputs": [
    {
     "data": {
      "text/plain": [
       "<matplotlib.legend.Legend at 0x1d6510c2ac0>"
      ]
     },
     "execution_count": 46,
     "metadata": {},
     "output_type": "execute_result"
    },
    {
     "data": {
      "image/png": "[encoded data removed]",
      "text/plain": [
       "<Figure size 1152x576 with 2 Axes>"
      ]
     },
     "metadata": {
      "needs_background": "light"
     },
     "output_type": "display_data"
    }
   ],
   "source": [
    "df1 = df[df.max_users<950]\n",
    "df2 = df[df.max_users>950]\n",
    "fig, ax = plt.subplots(1,2, figsize=(16,8))\n",
    "df1.groupby('dead')['time'].plot(kind='hist', ax=ax[0], title='Pico de Usuários < 950')\n",
    "ax[0].legend(labels=['Sobreviveu', 'Não Sobreviveu'])\n",
    "df2.groupby('dead')['time'].plot(kind='hist', ax=ax[1], title='Pico de Usuários > 950')\n",
    "ax[1].legend(labels=['Sobreviveu', 'Não Sobreviveu'])\n"
   ]
  },
  {
   "cell_type": "markdown",
   "metadata": {},
   "source": [
    "É possível ver grande diferença dos dois grupos pois o método de agrupamento é um valor delimitador, vamos examinar as curvas de Kaplan-Meier para estas duas subamostras. Isso envolve ajustar o estimador de Kaplan Meier separadamente para cada subamostra."
   ]
  },
  {
   "cell_type": "code",
   "execution_count": 48,
   "metadata": {},
   "outputs": [
    {
     "data": {
      "text/plain": [
       "Text(0, 0.5, 'Taxa de Sobrevivência')"
      ]
     },
     "execution_count": 48,
     "metadata": {},
     "output_type": "execute_result"
    },
    {
     "data": {
      "image/png": "[encoded data removed]",
      "text/plain": [
       "<Figure size 864x432 with 1 Axes>"
      ]
     },
     "metadata": {
      "needs_background": "light"
     },
     "output_type": "display_data"
    }
   ],
   "source": [
    "kmf.fit(df1.time, df1.dead)\n",
    "kmf.plot(label='Pico de Usuários < 950', figsize=(12, 6))\n",
    "kmf.fit(df2.time, df2.dead)\n",
    "kmf.plot(label='Pico de Usuários > 950')\n",
    "plt.title('Pico de Usuários e Falha: Curva de Kaplan-Meier')\n",
    "plt.xlabel('Tempo(s)')\n",
    "plt.ylabel('Taxa de Sobrevivência')\n"
   ]
  }
 ],
 "metadata": {
  "anaconda-cloud": {},
  "interpreter": {
   "hash": "89d8cdadb05c59b74e3d23c903f59cc612f51c8918c05be68085cb0e57befbba"
  },
  "kernelspec": {
   "display_name": "Python 3.9.7 64-bit",
   "language": "python",
   "name": "python3"
  },
  "language_info": {
   "codemirror_mode": {
    "name": "ipython",
    "version": 3
   },
   "file_extension": ".py",
   "mimetype": "text/x-python",
   "name": "python",
   "nbconvert_exporter": "python",
   "pygments_lexer": "ipython3",
   "version": "3.9.12"
  },
  "toc": {
   "colors": {
    "hover_highlight": "#DAA520",
    "navigate_num": "#000000",
    "navigate_text": "#333333",
    "running_highlight": "#FF0000",
    "selected_highlight": "#FFD700",
    "sidebar_border": "#EEEEEE",
    "wrapper_background": "#FFFFFF"
   },
   "moveMenuLeft": false,
   "nav_menu": {
    "height": "311px",
    "width": "412px"
   },
   "navigate_menu": true,
   "number_sections": false,
   "sideBar": false,
   "threshold": "3",
   "toc_cell": false,
   "toc_position": {
    "height": "22px",
    "left": "1105px",
    "right": "20px",
    "top": "-1px",
    "width": "22px"
   },
   "toc_section_display": "block",
   "toc_window_display": true,
   "widenNotebook": false
  }
 },
 "nbformat": 4,
 "nbformat_minor": 4
}
